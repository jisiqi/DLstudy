{
 "cells": [
  {
   "cell_type": "markdown",
   "metadata": {},
   "source": [
    "![](./graphs/dl_banner.jpg)"
   ]
  },
  {
   "cell_type": "markdown",
   "metadata": {},
   "source": [
    "# 用tensorflow low level API构建线性回归模型\n",
    "#### \\[稀牛学院 x 网易云课程\\]《深度学习工程师(实战)》课程资料 by [@寒小阳](https://blog.csdn.net/han_xiaoyang)"
   ]
  },
  {
   "cell_type": "markdown",
   "metadata": {},
   "source": [
    "## 1.引入工具库"
   ]
  },
  {
   "cell_type": "code",
   "execution_count": 1,
   "metadata": {},
   "outputs": [],
   "source": [
    "import tensorflow as tf\n",
    "import numpy\n",
    "import matplotlib.pyplot as plt\n",
    "import numpy.random as rnd"
   ]
  },
  {
   "cell_type": "markdown",
   "metadata": {},
   "source": [
    "## 2.设定超参数"
   ]
  },
  {
   "cell_type": "code",
   "execution_count": 2,
   "metadata": {},
   "outputs": [],
   "source": [
    "# 设定各种参数\n",
    "learning_rate = 0.01  # 学习率\n",
    "training_epochs = 1000 # 迭代轮次\n",
    "display_step = 50 # 信息展示间隔轮次"
   ]
  },
  {
   "cell_type": "markdown",
   "metadata": {},
   "source": [
    "## 3.准备数据，设定参数变量"
   ]
  },
  {
   "cell_type": "code",
   "execution_count": 3,
   "metadata": {},
   "outputs": [],
   "source": [
    "# 给定一组训练数据\n",
    "train_X = numpy.asarray([2.3,4.3,5.6,6.3,6.9,4.3,9.9,6.15,7.59,2.167,\n",
    "                         7.4,10.9,5.3,7.9,5.4,9.2,3.1])\n",
    "train_Y = numpy.asarray([1.3,2.76,2.09,3.01,1.9,1.7,3.6,2.6,2.5,1.2,\n",
    "                         2.8,3.5,1.5,2.9,2.42,2.94,1.3])\n",
    "n_samples = train_X.shape[0]"
   ]
  },
  {
   "cell_type": "code",
   "execution_count": 4,
   "metadata": {},
   "outputs": [],
   "source": [
    "# 占位符\n",
    "X = tf.placeholder(\"float\")\n",
    "Y = tf.placeholder(\"float\")\n",
    "\n",
    "# 设定模型权重\n",
    "W = tf.Variable(rnd.randn(), name=\"weight\")\n",
    "b = tf.Variable(rnd.randn(), name=\"bias\")"
   ]
  },
  {
   "cell_type": "markdown",
   "metadata": {},
   "source": [
    "## 4.完成模型构建\n",
    "#### \\[稀牛学院 x 网易云课程\\]《深度学习工程师(实战)》课程资料 by [@寒小阳](https://blog.csdn.net/han_xiaoyang)"
   ]
  },
  {
   "cell_type": "code",
   "execution_count": 5,
   "metadata": {},
   "outputs": [],
   "source": [
    "# 构建线性回归\n",
    "# 想想线性回归是不是y=WX+b的形式\n",
    "pred = tf.add(tf.multiply(X, W), b)"
   ]
  },
  {
   "cell_type": "markdown",
   "metadata": {},
   "source": [
    "## 5.计算损失与优化器设定"
   ]
  },
  {
   "cell_type": "code",
   "execution_count": 6,
   "metadata": {},
   "outputs": [],
   "source": [
    "# 计算损失函数\n",
    "cost = tf.reduce_sum(tf.pow(pred-Y, 2))/(2*n_samples)\n",
    "# 梯度下降优化器\n",
    "optimizer = tf.train.GradientDescentOptimizer(learning_rate).minimize(cost)"
   ]
  },
  {
   "cell_type": "code",
   "execution_count": 7,
   "metadata": {},
   "outputs": [],
   "source": [
    "# 初始化计算图中的变量（用默认值去赋值）\n",
    "init = tf.global_variables_initializer()"
   ]
  },
  {
   "cell_type": "markdown",
   "metadata": {},
   "source": [
    "## 6.在session当中完成计算图计算(损失计算与优化、参数更新迭代)\n",
    "#### \\[稀牛学院 x 网易云课程\\]《深度学习工程师(实战)》课程资料 by [@寒小阳](https://blog.csdn.net/han_xiaoyang)"
   ]
  },
  {
   "cell_type": "code",
   "execution_count": 10,
   "metadata": {},
   "outputs": [
    {
     "name": "stdout",
     "output_type": "stream",
     "text": [
      "第0050轮 损失函数值为 0.130466491 当前的W为 0.38732392 当前的b为 -0.17892511\n",
      "第0100轮 损失函数值为 0.123079553 当前的W为 0.37893105 当前的b为 -0.11839904\n",
      "第0150轮 损失函数值为 0.116625465 当前的W为 0.37108523 当前的b为 -0.06181772\n",
      "第0200轮 损失函数值为 0.110986501 当前的W为 0.36375073 当前的b为 -0.008924108\n",
      "第0250轮 损失函数值为 0.106059738 当前的W为 0.3568943 当前的b为 0.0405221\n",
      "第0300轮 损失函数值为 0.101755358 当前的W为 0.35048473 当前的b为 0.08674575\n",
      "第0350轮 损失函数值为 0.097994789 当前的W为 0.3444929 当前的b为 0.12995662\n",
      "第0400轮 损失函数值为 0.094709374 当前的W为 0.33889163 当前的b为 0.17035122\n",
      "第0450轮 损失函数值为 0.091839120 当前的W为 0.3336554 当前的b为 0.20811336\n",
      "第0500轮 损失函数值为 0.089331642 当前的W为 0.32876036 当前的b为 0.24341439\n",
      "第0550轮 损失函数值为 0.087141126 当前的W为 0.3241844 当前的b为 0.2764147\n",
      "第0600轮 损失函数值为 0.085227601 当前的W为 0.31990662 当前的b为 0.307264\n",
      "第0650轮 损失函数值为 0.083556056 当前的W为 0.3159077 当前的b为 0.33610266\n",
      "第0700轮 损失函数值为 0.082095906 当前的W为 0.31216955 当前的b为 0.36306164\n",
      "第0750轮 损失函数值为 0.080820478 当前的W为 0.3086749 当前的b为 0.38826364\n",
      "第0800轮 损失函数值为 0.079706438 当前的W为 0.30540803 当前的b为 0.41182315\n",
      "第0850轮 损失函数值为 0.078733370 当前的W为 0.302354 当前的b为 0.43384755\n",
      "第0900轮 损失函数值为 0.077883512 当前的W为 0.29949912 当前的b为 0.45443603\n",
      "第0950轮 损失函数值为 0.077141270 当前的W为 0.29683015 当前的b为 0.47368333\n",
      "第1000轮 损失函数值为 0.076493017 当前的W为 0.29433525 当前的b为 0.49167612\n",
      "训练完成\n",
      "训练集损失为 0.07649302 最终的W为 0.29433525 最终的b为 0.49167612 \n",
      "\n"
     ]
    },
    {
     "data": {
      "image/png": "[encoded data removed]",
      "text/plain": [
       "<Figure size 432x288 with 1 Axes>"
      ]
     },
     "metadata": {
      "needs_background": "light"
     },
     "output_type": "display_data"
    }
   ],
   "source": [
    "# 真正的训练过程\n",
    "with tf.Session() as sess:\n",
    "    sess.run(init)\n",
    "\n",
    "    # 拟合训练数据\n",
    "    for epoch in range(training_epochs):\n",
    "        for (x, y) in zip(train_X, train_Y):\n",
    "            sess.run(optimizer, feed_dict={X: x, Y: y})\n",
    "\n",
    "        # 每个epoch(完整的数据过一遍)之后输出信息\n",
    "        if (epoch+1) % display_step == 0:\n",
    "            c = sess.run(cost, feed_dict={X: train_X, Y:train_Y})\n",
    "            print( \"第%04d轮\" % (epoch+1), \"损失函数值为\", \"{:.9f}\".format(c), \\\n",
    "                \"当前的W为\", sess.run(W), \"当前的b为\", sess.run(b))\n",
    "\n",
    "    print(\"训练完成\") \n",
    "    training_cost = sess.run(cost, feed_dict={X: train_X, Y: train_Y})\n",
    "    print (\"训练集损失为\", training_cost, \"最终的W为\", sess.run(W), \"最终的b为\", sess.run(b), '\\n')\n",
    "\n",
    "    #用matplotlib画一下原始数据点与拟合出来的直线\n",
    "    plt.plot(train_X, train_Y, 'ro', label='Origin data')\n",
    "    plt.plot(train_X, sess.run(W) * train_X + sess.run(b), label='Fitted line')\n",
    "    plt.legend()\n",
    "    plt.show()"
   ]
  },
  {
   "cell_type": "markdown",
   "metadata": {},
   "source": [
    "### 版权归 © 稀牛学院 所有 保留所有权利\n",
    "![](./graphs/xiniu_neteasy.png)"
   ]
  },
  {
   "cell_type": "code",
   "execution_count": null,
   "metadata": {},
   "outputs": [],
   "source": []
  }
 ],
 "metadata": {
  "anaconda-cloud": {},
  "kernelspec": {
   "display_name": "Python 3",
   "language": "python",
   "name": "python3"
  },
  "language_info": {
   "codemirror_mode": {
    "name": "ipython",
    "version": 3
   },
   "file_extension": ".py",
   "mimetype": "text/x-python",
   "name": "python",
   "nbconvert_exporter": "python",
   "pygments_lexer": "ipython3",
   "version": "3.5.2"
  }
 },
 "nbformat": 4,
 "nbformat_minor": 1
}
