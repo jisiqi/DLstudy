{
 "cells": [
  {
   "cell_type": "markdown",
   "metadata": {
    "collapsed": true
   },
   "source": [
    "![](./graphs/dl_banner.jpg)"
   ]
  },
  {
   "cell_type": "markdown",
   "metadata": {},
   "source": [
    "# 用tensorflow low level API构建softmax分类器\n",
    "#### \\[稀牛学院 x 网易云课程\\]《深度学习工程师(实战)》课程资料 by [@寒小阳](https://blog.csdn.net/han_xiaoyang)"
   ]
  },
  {
   "cell_type": "markdown",
   "metadata": {},
   "source": [
    "## 问题背景：MNIST 手写数字\n",
    "#### \\[稀牛学院 x 网易云课程\\]《深度学习工程师(实战)》课程资料 by [@寒小阳](https://blog.csdn.net/han_xiaoyang)\n",
    "\n",
    "这是一个非常经典的问题，我们的对象是手写数字图片，我们需要根据手写数字图片的输入，构建线性的分类器(softmax分类器)去区分图片是手写数字0-9中的哪一个。这个问题的数据集，每一张图片的表示是长宽为28的矩阵，我们有时候会把它展开成784维的向量。MNIST手写数据集长成下面这样。\n",
    "\n",
    "![MNIST Dataset](http://neuralnetworksanddeeplearning.com/images/mnist_100_digits.png)\n",
    "\n",
    "更多的信息可以参考: http://yann.lecun.com/exdb/mnist/"
   ]
  },
  {
   "cell_type": "markdown",
   "metadata": {},
   "source": [
    "## 0.softmax分类器\n",
    "#### \\[稀牛学院 x 网易云课程\\]《深度学习工程师(实战)》课程资料 by [@寒小阳](https://blog.csdn.net/han_xiaoyang)\n",
    "softmax是线性分类器，我们对WX+b得到的得分，做e的指数次方变换并进行归一化，视作每个类别的概率。如下是一个3分类的softmax分类器。\n",
    "![](./graphs/softmax.png)"
   ]
  },
  {
   "cell_type": "markdown",
   "metadata": {},
   "source": [
    "## 1.引入工具库"
   ]
  },
  {
   "cell_type": "code",
   "execution_count": 2,
   "metadata": {},
   "outputs": [],
   "source": [
    "import tensorflow as tf\n",
    "import warnings\n",
    "warnings.filterwarnings('ignore')\n",
    "config = tf.ConfigProto()\n",
    "config.gpu_options.per_process_gpu_memory_fraction = 0.3\n",
    "session = tf.Session(config=config)   # tf.Session()的括号内还可以添加其他参与进行设置"
   ]
  },
  {
   "cell_type": "markdown",
   "metadata": {},
   "source": [
    "## 2.设定超参数"
   ]
  },
  {
   "cell_type": "code",
   "execution_count": 3,
   "metadata": {},
   "outputs": [],
   "source": [
    "learning_rate = 0.01 # 学习率\n",
    "training_epochs = 40 # 迭代轮次\n",
    "batch_size = 100 # 一批数据的大小\n",
    "display_step = 1 # 展示间隔轮次"
   ]
  },
  {
   "cell_type": "markdown",
   "metadata": {},
   "source": [
    "## 3.准备数据，设定参数变量"
   ]
  },
  {
   "cell_type": "code",
   "execution_count": 7,
   "metadata": {},
   "outputs": [
    {
     "name": "stdout",
     "output_type": "stream",
     "text": [
      "Extracting /data/MNIST_data/train-images-idx3-ubyte.gz\n",
      "Extracting /data/MNIST_data/train-labels-idx1-ubyte.gz\n",
      "Extracting /data/MNIST_data/t10k-images-idx3-ubyte.gz\n",
      "Extracting /data/MNIST_data/t10k-labels-idx1-ubyte.gz\n"
     ]
    }
   ],
   "source": [
    "from tensorflow.examples.tutorials.mnist import input_data\n",
    "mnist = input_data.read_data_sets(\"/data/Deep_learning/MNIST_data\", one_hot=True)"
   ]
  },
  {
   "cell_type": "code",
   "execution_count": 8,
   "metadata": {},
   "outputs": [],
   "source": [
    "# 占位符\n",
    "x = tf.placeholder(tf.float32, [None, 784]) # mnist数据集维度为28*28=784\n",
    "y = tf.placeholder(tf.float32, [None, 10]) # 0-9总共有10个不同的手写数字类别\n",
    "\n",
    "# 设定模型权重\n",
    "W = tf.Variable(tf.zeros([784, 10]))\n",
    "b = tf.Variable(tf.zeros([10]))"
   ]
  },
  {
   "cell_type": "markdown",
   "metadata": {},
   "source": [
    "## 4.完成模型构建"
   ]
  },
  {
   "cell_type": "code",
   "execution_count": 9,
   "metadata": {},
   "outputs": [],
   "source": [
    "# 构建线性模型\n",
    "pred = tf.nn.softmax(tf.matmul(x, W) + b) # Softmax"
   ]
  },
  {
   "cell_type": "markdown",
   "metadata": {},
   "source": [
    "## 5.计算损失与优化器设定"
   ]
  },
  {
   "cell_type": "code",
   "execution_count": 10,
   "metadata": {},
   "outputs": [],
   "source": [
    "# 计算损失函数\n",
    "cost = tf.reduce_mean(-tf.reduce_sum(y*tf.log(pred), reduction_indices=1))\n",
    "# 梯度下降优化器\n",
    "optimizer = tf.train.GradientDescentOptimizer(learning_rate).minimize(cost)\n",
    "\n",
    "# 初始化计算图中的变量（用默认值去赋值）\n",
    "init = tf.global_variables_initializer()"
   ]
  },
  {
   "cell_type": "markdown",
   "metadata": {},
   "source": [
    "## 6.在session当中完成计算图计算(损失计算与优化、参数更新迭代)\n",
    "#### \\[稀牛学院 x 网易云课程\\]《深度学习工程师(实战)》课程资料 by [@寒小阳](https://blog.csdn.net/han_xiaoyang)"
   ]
  },
  {
   "cell_type": "code",
   "execution_count": 11,
   "metadata": {},
   "outputs": [
    {
     "name": "stdout",
     "output_type": "stream",
     "text": [
      "第001轮 当前损失为: 1.184057028\n",
      "第002轮 当前损失为: 0.665516272\n",
      "第003轮 当前损失为: 0.552934921\n",
      "第004轮 当前损失为: 0.498698776\n",
      "第005轮 当前损失为: 0.465524674\n",
      "第006轮 当前损失为: 0.442535270\n",
      "第007轮 当前损失为: 0.425554796\n",
      "第008轮 当前损失为: 0.412231688\n",
      "第009轮 当前损失为: 0.401333827\n",
      "第010轮 当前损失为: 0.392426639\n",
      "第011轮 当前损失为: 0.384791511\n",
      "第012轮 当前损失为: 0.378171671\n",
      "第013轮 当前损失为: 0.372441453\n",
      "第014轮 当前损失为: 0.367276647\n",
      "第015轮 当前损失为: 0.362725584\n",
      "第016轮 当前损失为: 0.358590473\n",
      "第017轮 当前损失为: 0.354867438\n",
      "第018轮 当前损失为: 0.351498647\n",
      "第019轮 当前损失为: 0.348300745\n",
      "第020轮 当前损失为: 0.345436346\n",
      "第021轮 当前损失为: 0.342771339\n",
      "第022轮 当前损失为: 0.340219269\n",
      "第023轮 当前损失为: 0.337930693\n",
      "第024轮 当前损失为: 0.335715040\n",
      "第025轮 当前损失为: 0.333687778\n",
      "第026轮 当前损失为: 0.331791264\n",
      "第027轮 当前损失为: 0.329913907\n",
      "第028轮 当前损失为: 0.328241467\n",
      "第029轮 当前损失为: 0.326575357\n",
      "第030轮 当前损失为: 0.325047551\n",
      "第031轮 当前损失为: 0.323519590\n",
      "第032轮 当前损失为: 0.322162600\n",
      "第033轮 当前损失为: 0.320807652\n",
      "第034轮 当前损失为: 0.319525292\n",
      "第035轮 当前损失为: 0.318305898\n",
      "第036轮 当前损失为: 0.317124124\n",
      "第037轮 当前损失为: 0.316001304\n",
      "第038轮 当前损失为: 0.314899550\n",
      "第039轮 当前损失为: 0.313886847\n",
      "第040轮 当前损失为: 0.312833868\n",
      "训练完成\n",
      "模型在测试集上的准确率为: 0.896\n"
     ]
    }
   ],
   "source": [
    "# 在一个session中开始训练\n",
    "with tf.Session() as sess:\n",
    "    sess.run(init)\n",
    "\n",
    "    # 训练多轮\n",
    "    for epoch in range(training_epochs):\n",
    "        avg_cost = 0.\n",
    "        total_batch = int(mnist.train.num_examples/batch_size)\n",
    "        # 遍历整个batch中的数据\n",
    "        for i in range(total_batch):\n",
    "            batch_xs, batch_ys = mnist.train.next_batch(batch_size)\n",
    "            # 用一个batch的数据进行计算\n",
    "            _, c = sess.run([optimizer, cost], feed_dict={x: batch_xs,\n",
    "                                                          y: batch_ys})\n",
    "            # 计算损失\n",
    "            avg_cost += c / total_batch\n",
    "        # 输出信息\n",
    "        if (epoch+1) % display_step == 0:\n",
    "            print(\"第%03d轮\" % (epoch+1), \"当前损失为:\", \"{:.9f}\".format(avg_cost))\n",
    "\n",
    "    print(\"训练完成\")\n",
    "\n",
    "    # 测试准确率\n",
    "    correct_prediction = tf.equal(tf.argmax(pred, 1), tf.argmax(y, 1))\n",
    "    # 计算3000个样本上的准确率\n",
    "    accuracy = tf.reduce_mean(tf.cast(correct_prediction, tf.float32))\n",
    "    print(\"模型在测试集上的准确率为:\", accuracy.eval({x: mnist.test.images[:3000], y: mnist.test.labels[:3000]}))"
   ]
  },
  {
   "cell_type": "markdown",
   "metadata": {},
   "source": [
    "### 版权归 © 稀牛学院 所有 保留所有权利\n",
    "![](./graphs/xiniu_neteasy.png)"
   ]
  },
  {
   "cell_type": "code",
   "execution_count": null,
   "metadata": {},
   "outputs": [],
   "source": []
  }
 ],
 "metadata": {
  "anaconda-cloud": {},
  "kernelspec": {
   "display_name": "Python 3",
   "language": "python",
   "name": "python3"
  },
  "language_info": {
   "codemirror_mode": {
    "name": "ipython",
    "version": 3
   },
   "file_extension": ".py",
   "mimetype": "text/x-python",
   "name": "python",
   "nbconvert_exporter": "python",
   "pygments_lexer": "ipython3",
   "version": "3.5.2"
  }
 },
 "nbformat": 4,
 "nbformat_minor": 1
}
