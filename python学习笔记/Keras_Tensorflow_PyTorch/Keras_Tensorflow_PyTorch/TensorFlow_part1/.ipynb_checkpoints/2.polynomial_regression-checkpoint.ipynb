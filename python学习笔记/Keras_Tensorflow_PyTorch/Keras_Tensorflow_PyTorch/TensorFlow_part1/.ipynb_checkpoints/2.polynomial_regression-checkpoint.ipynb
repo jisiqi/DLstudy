{
 "cells": [
  {
   "cell_type": "markdown",
   "metadata": {},
   "source": [
    "![](../img/dl_banner.jpg)"
   ]
  },
  {
   "cell_type": "markdown",
   "metadata": {},
   "source": [
    "# 用tensorflow low level API构建多项式回归模型\n",
    "#### \\[稀牛学院 x 网易云课程\\]《深度学习工程师(实战)》课程资料 by [@寒小阳](https://blog.csdn.net/han_xiaoyang)"
   ]
  },
  {
   "cell_type": "markdown",
   "metadata": {},
   "source": [
    "## 1.引入工具库"
   ]
  },
  {
   "cell_type": "code",
   "execution_count": 1,
   "metadata": {},
   "outputs": [],
   "source": [
    "import tensorflow as tf\n",
    "import numpy as np\n",
    "import matplotlib.pyplot as plt\n",
    "plt.rcParams[\"figure.figsize\"] = (14,8)\n",
    "import numpy.random as rnd"
   ]
  },
  {
   "cell_type": "markdown",
   "metadata": {},
   "source": [
    "## 2.设定超参数"
   ]
  },
  {
   "cell_type": "code",
   "execution_count": 2,
   "metadata": {},
   "outputs": [],
   "source": [
    "# 设定参数\n",
    "learning_rate = 0.01  # 学习率\n",
    "epochs = 1000 # 迭代总轮次"
   ]
  },
  {
   "cell_type": "markdown",
   "metadata": {},
   "source": [
    "## 3.准备数据，设定参数变量"
   ]
  },
  {
   "cell_type": "code",
   "execution_count": 3,
   "metadata": {},
   "outputs": [
    {
     "data": {
      "image/png": "[encoded data removed]",
      "text/plain": [
       "<Figure size 432x288 with 1 Axes>"
      ]
     },
     "metadata": {},
     "output_type": "display_data"
    }
   ],
   "source": [
    "# 产出一部分用于建模学习的数据\n",
    "n_observations = 100\n",
    "xs = np.linspace(-3, 3, n_observations)\n",
    "ys = np.sin(xs) + np.random.uniform(-0.5, 0.5, n_observations)\n",
    "plt.scatter(xs, ys)\n",
    "plt.show()"
   ]
  },
  {
   "cell_type": "code",
   "execution_count": 4,
   "metadata": {},
   "outputs": [],
   "source": [
    "# 占位符\n",
    "X = tf.placeholder(tf.float32, name='X')\n",
    "Y = tf.placeholder(tf.float32, name='Y')\n",
    "\n",
    "# 设定模型权重\n",
    "W = tf.Variable(tf.random_normal([1]), name='weight')\n",
    "b = tf.Variable(tf.random_normal([1]), name='bias')"
   ]
  },
  {
   "cell_type": "markdown",
   "metadata": {},
   "source": [
    "## 4.完成模型构建\n",
    "#### \\[稀牛学院 x 网易云课程\\]《深度学习工程师(实战)》课程资料 by [@寒小阳](https://blog.csdn.net/han_xiaoyang)"
   ]
  },
  {
   "cell_type": "code",
   "execution_count": 5,
   "metadata": {},
   "outputs": [],
   "source": [
    "# 构建多项式回归模型\n",
    "Y_pred = tf.add(tf.multiply(X, W), b)\n",
    "#添加高次项\n",
    "W_2 = tf.Variable(tf.random_normal([1]), name='weight_2')\n",
    "Y_pred = tf.add(tf.multiply(tf.pow(X, 2), W_2), Y_pred)\n",
    "W_3 = tf.Variable(tf.random_normal([1]), name='weight_3')\n",
    "Y_pred = tf.add(tf.multiply(tf.pow(X, 3), W_3), Y_pred)"
   ]
  },
  {
   "cell_type": "markdown",
   "metadata": {},
   "source": [
    "## 5.计算损失与优化器设定"
   ]
  },
  {
   "cell_type": "code",
   "execution_count": 6,
   "metadata": {},
   "outputs": [],
   "source": [
    "# 计算损失函数\n",
    "sample_num = xs.shape[0]\n",
    "loss = tf.reduce_sum(tf.pow(Y_pred - Y, 2)) / sample_num\n",
    "# 梯度下降优化器\n",
    "optimizer = tf.train.GradientDescentOptimizer(learning_rate).minimize(loss)"
   ]
  },
  {
   "cell_type": "code",
   "execution_count": 7,
   "metadata": {},
   "outputs": [],
   "source": [
    "# 初始化计算图中的变量（用默认值去赋值）\n",
    "init = tf.global_variables_initializer()"
   ]
  },
  {
   "cell_type": "markdown",
   "metadata": {},
   "source": [
    "## 6.在session当中完成计算图计算(损失计算与优化、参数更新迭代)\n",
    "#### \\[稀牛学院 x 网易云课程\\]《深度学习工程师(实战)》课程资料 by [@寒小阳](https://blog.csdn.net/han_xiaoyang)"
   ]
  },
  {
   "cell_type": "code",
   "execution_count": 8,
   "metadata": {},
   "outputs": [
    {
     "name": "stdout",
     "output_type": "stream",
     "text": [
      "第0轮数据训练: 当前损失值为0.17651205832443112\n",
      "第20轮数据训练: 当前损失值为0.029116199021173086\n",
      "第40轮数据训练: 当前损失值为0.020595575373644124\n",
      "第60轮数据训练: 当前损失值为0.014655464992427482\n",
      "第80轮数据训练: 当前损失值为0.010509585345629518\n",
      "第100轮数据训练: 当前损失值为0.007614584814425598\n",
      "第120轮数据训练: 当前损失值为0.0055921821537481264\n",
      "第140轮数据训练: 当前损失值为0.004178868615735745\n",
      "第160轮数据训练: 当前损失值为0.0031909412165235553\n",
      "第180轮数据训练: 当前损失值为0.0025002331668565604\n",
      "第200轮数据训练: 当前损失值为0.0020172972524721898\n",
      "第220轮数据训练: 当前损失值为0.0016796513354483977\n",
      "第240轮数据训练: 当前损失值为0.0014436398761010505\n",
      "第260轮数据训练: 当前损失值为0.001278733052200418\n",
      "第280轮数据训练: 当前损失值为0.001163579232785028\n",
      "第300轮数据训练: 当前损失值为0.0010832377834955778\n",
      "第320轮数据训练: 当前损失值为0.0010272501600552353\n",
      "第340轮数据训练: 当前损失值为0.0009882963492584907\n",
      "第360轮数据训练: 当前损失值为0.0009612485610067267\n",
      "第380轮数据训练: 当前损失值为0.0009425158337472794\n",
      "第400轮数据训练: 当前损失值为0.0009295857462660706\n",
      "第420轮数据训练: 当前损失值为0.0009206981517296154\n",
      "第440轮数据训练: 当前损失值为0.0009146218712912458\n",
      "第460轮数据训练: 当前损失值为0.000910496368665008\n",
      "第480轮数据训练: 当前损失值为0.0009077203714582538\n",
      "第500轮数据训练: 当前损失值为0.00090587458059872\n",
      "第520轮数据训练: 当前损失值为0.0009046667692081201\n",
      "第540轮数据训练: 当前损失值为0.0009038938271137909\n",
      "第560轮数据训练: 当前损失值为0.0009034147410083903\n",
      "第580轮数据训练: 当前损失值为0.0009031327188460381\n",
      "第600轮数据训练: 当前损失值为0.0009029805111569683\n",
      "第620轮数据训练: 当前损失值为0.000902912518440111\n",
      "第640轮数据训练: 当前损失值为0.0009028973078598668\n",
      "第660轮数据训练: 当前损失值为0.0009029147050091524\n",
      "第680轮数据训练: 当前损失值为0.0009029500788257394\n",
      "第700轮数据训练: 当前损失值为0.0009029944256852218\n",
      "第720轮数据训练: 当前损失值为0.0009030422619574097\n",
      "第740轮数据训练: 当前损失值为0.0009030899748381672\n",
      "第760轮数据训练: 当前损失值为0.0009031349264918731\n",
      "第780轮数据训练: 当前损失值为0.0009031763038160534\n",
      "第800轮数据训练: 当前损失值为0.0009032137760488012\n",
      "第820轮数据训练: 当前损失值为0.0009032465078234964\n",
      "第840轮数据训练: 当前损失值为0.0009032756216333837\n",
      "第860轮数据训练: 当前损失值为0.000903300864861194\n",
      "第880轮数据训练: 当前损失值为0.0009033227498917995\n",
      "第900轮数据训练: 当前损失值为0.0009033414378700399\n",
      "第920轮数据训练: 当前损失值为0.0009033574926581877\n",
      "第940轮数据训练: 当前损失值为0.000903371405041753\n",
      "第960轮数据训练: 当前损失值为0.0009033831046343721\n",
      "第980轮数据训练: 当前损失值为0.0009033926108133983\n"
     ]
    }
   ],
   "source": [
    "n_samples = xs.shape[0]\n",
    "with tf.Session() as sess:\n",
    "\t# 记得初始化所有变量\n",
    "\tsess.run(init) \n",
    "\twriter = tf.summary.FileWriter('./graphs/polynomial_reg', sess.graph)\n",
    "\t\n",
    "\t# 训练模型\n",
    "\tfor i in range(epochs):\n",
    "\t\ttotal_loss = 0\n",
    "\t\tfor x, y in zip(xs, ys):\n",
    "\t\t\t# 通过feed_dic把数据灌进去\n",
    "\t\t\t_, l = sess.run([optimizer, loss], feed_dict={X: x, Y:y}) \n",
    "\t\t\ttotal_loss += l\n",
    "\t\tif i%20 ==0:\n",
    "\t\t\tprint('第{0}轮数据训练: 当前损失值为{1}'.format(i, total_loss/n_samples))\n",
    "\n",
    "\t# 关闭writer\n",
    "\twriter.close()\n",
    "    # 取出w和b的值\n",
    "\tW, W_2, W_3, b = sess.run([W, W_2, W_3, b])"
   ]
  },
  {
   "cell_type": "code",
   "execution_count": 9,
   "metadata": {},
   "outputs": [
    {
     "name": "stdout",
     "output_type": "stream",
     "text": [
      "W:0.9109477\n",
      "W_2:0.0026840759\n",
      "W_3:-0.10581551\n",
      "b:0.0006381156\n"
     ]
    }
   ],
   "source": [
    "print(\"W:\"+str(W[0]))\n",
    "print(\"W_2:\"+str(W_2[0]))\n",
    "print(\"W_3:\"+str(W_3[0]))\n",
    "print(\"b:\"+str(b[0]))"
   ]
  },
  {
   "cell_type": "code",
   "execution_count": 10,
   "metadata": {},
   "outputs": [
    {
     "data": {
      "image/png": "[encoded data removed]",
      "text/plain": [
       "<Figure size 432x288 with 1 Axes>"
      ]
     },
     "metadata": {},
     "output_type": "display_data"
    }
   ],
   "source": [
    "plt.plot(xs, ys, 'bo', label='Real data')\n",
    "plt.plot(xs, xs*W + np.power(xs,2)*W_2 + np.power(xs,3)*W_3 + b, 'r', label='Predicted data')\n",
    "plt.legend()\n",
    "plt.show()"
   ]
  },
  {
   "cell_type": "markdown",
   "metadata": {},
   "source": [
    "### 版权归 © 稀牛学院 所有 保留所有权利\n",
    "![](../img/xiniu_neteasy.png)"
   ]
  },
  {
   "cell_type": "code",
   "execution_count": null,
   "metadata": {},
   "outputs": [],
   "source": []
  }
 ],
 "metadata": {
  "anaconda-cloud": {},
  "kernelspec": {
   "display_name": "Python 3",
   "language": "python",
   "name": "python3"
  },
  "language_info": {
   "codemirror_mode": {
    "name": "ipython",
    "version": 3
   },
   "file_extension": ".py",
   "mimetype": "text/x-python",
   "name": "python",
   "nbconvert_exporter": "python",
   "pygments_lexer": "ipython3",
   "version": "3.6.1"
  }
 },
 "nbformat": 4,
 "nbformat_minor": 1
}
