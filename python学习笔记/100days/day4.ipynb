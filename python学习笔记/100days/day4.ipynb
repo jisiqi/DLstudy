{
 "cells": [
  {
   "cell_type": "code",
   "execution_count": 8,
   "metadata": {},
   "outputs": [
    {
     "name": "stdout",
     "output_type": "stream",
     "text": [
      "输入一个整数0\n",
      "0是素数\n"
     ]
    }
   ],
   "source": [
    "#输入一个正整数判断是不是素数。（素数指的是只能被1和自身整除的大于1的整数。）\n",
    "\n",
    "from math import sqrt\n",
    "\n",
    "num = int(input(\"输入一个整数\"))\n",
    "end = int(sqrt(num))\n",
    "is_prime = True\n",
    "\n",
    "for i in range(2,end+1):\n",
    "    if num % i == 0:\n",
    "        is_prime = False\n",
    "        break\n",
    "if is_prime and num != 1:\n",
    "    print('%d是素数' % num)\n",
    "else:\n",
    "    print('%d不是素数' % num)"
   ]
  },
  {
   "cell_type": "code",
   "execution_count": 9,
   "metadata": {},
   "outputs": [
    {
     "name": "stdout",
     "output_type": "stream",
     "text": [
      "x = 12\n",
      "y = 13\n",
      "12和13的最大公约数是1\n",
      "12和13的最小公倍数是156\n"
     ]
    }
   ],
   "source": [
    "#输入两个正整数，计算它们的最大公约数和最小公倍数。\n",
    "\n",
    "x = int(input('x = '))\n",
    "y = int(input('y = '))\n",
    "# 如果x大于y就交换x和y的值\n",
    "if x > y:\n",
    "    # 通过下面的操作将y的值赋给x, 将x的值赋给y\n",
    "    x, y = y, x\n",
    "# 从两个数中较的数开始做递减的循环\n",
    "for factor in range(x, 0, -1):\n",
    "    if x % factor == 0 and y % factor == 0:\n",
    "        print('%d和%d的最大公约数是%d' % (x, y, factor))\n",
    "        print('%d和%d的最小公倍数是%d' % (x, y, x * y // factor))\n",
    "        break"
   ]
  },
  {
   "cell_type": "code",
   "execution_count": 3,
   "metadata": {},
   "outputs": [
    {
     "name": "stdout",
     "output_type": "stream",
     "text": [
      "input number5000000\n",
      "5\n"
     ]
    }
   ],
   "source": [
    "# 反转一个数字12345—》54321\n",
    "\n",
    "num = int(input(\"input number\"))\n",
    "resver_num = 0\n",
    "while num > 0:\n",
    "        resver_num = resver_num * 10 + num % 10\n",
    "        num //=10\n",
    "        \n",
    "print(resver_num)"
   ]
  },
  {
   "cell_type": "code",
   "execution_count": null,
   "metadata": {},
   "outputs": [],
   "source": []
  }
 ],
 "metadata": {
  "kernelspec": {
   "display_name": "Python 3",
   "language": "python",
   "name": "python3"
  },
  "language_info": {
   "codemirror_mode": {
    "name": "ipython",
    "version": 3
   },
   "file_extension": ".py",
   "mimetype": "text/x-python",
   "name": "python",
   "nbconvert_exporter": "python",
   "pygments_lexer": "ipython3",
   "version": "3.7.1"
  }
 },
 "nbformat": 4,
 "nbformat_minor": 2
}
