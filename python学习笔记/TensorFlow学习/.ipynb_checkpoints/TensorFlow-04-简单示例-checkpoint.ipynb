{
 "cells": [
  {
   "cell_type": "code",
   "execution_count": 3,
   "metadata": {},
   "outputs": [],
   "source": [
    "import tensorflow as tf\n",
    "import numpy as np\n"
   ]
  },
  {
   "cell_type": "code",
   "execution_count": 8,
   "metadata": {},
   "outputs": [
    {
     "name": "stdout",
     "output_type": "stream",
     "text": [
      "0 [0.054409314, 0.10035294]\n",
      "20 [0.103930235, 0.1978599]\n",
      "40 [0.10231053, 0.19874191]\n",
      "60 [0.10135832, 0.1992604]\n",
      "80 [0.100798525, 0.1995652]\n",
      "100 [0.10046944, 0.19974439]\n",
      "120 [0.10027598, 0.19984972]\n",
      "140 [0.10016224, 0.19991167]\n",
      "160 [0.10009539, 0.19994806]\n",
      "180 [0.100056075, 0.19996947]\n",
      "200 [0.10003299, 0.19998203]\n"
     ]
    }
   ],
   "source": [
    "#生成一百个随机点\n",
    "x_data = np.random.rand(100)\n",
    "y_data = x_data*0.1+0.2\n",
    "\n",
    "#构造一个线性模型\n",
    "b = tf.Variable(0.)\n",
    "k = tf.Variable(0.)\n",
    "y = k*x_data+b\n",
    "\n",
    "#二次代价函数\n",
    "loss = tf.reduce_mean(tf.square(y_data-y))\n",
    "#定义一个梯度下降法的优化器\n",
    "optimizer = tf.train.GradientDescentOptimizer(0.2)\n",
    "#最小化代价函数\n",
    "train = optimizer.minimize(loss)\n",
    "\n",
    "init = tf.global_variables_initializer()\n",
    "\n",
    "with tf.Session() as sess:\n",
    "    sess.run(init)\n",
    "    for step in range(201):\n",
    "        sess.run(train)\n",
    "        if step%20 ==0:\n",
    "            print(step,sess.run([k,b]))\n",
    "            "
   ]
  },
  {
   "cell_type": "code",
   "execution_count": null,
   "metadata": {},
   "outputs": [],
   "source": []
  }
 ],
 "metadata": {
  "kernelspec": {
   "display_name": "Python 3",
   "language": "python",
   "name": "python3"
  },
  "language_info": {
   "codemirror_mode": {
    "name": "ipython",
    "version": 3
   },
   "file_extension": ".py",
   "mimetype": "text/x-python",
   "name": "python",
   "nbconvert_exporter": "python",
   "pygments_lexer": "ipython3",
   "version": "3.7.3"
  }
 },
 "nbformat": 4,
 "nbformat_minor": 2
}
