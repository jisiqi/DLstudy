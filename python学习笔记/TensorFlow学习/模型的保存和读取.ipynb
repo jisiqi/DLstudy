{
 "cells": [
  {
   "cell_type": "code",
   "execution_count": 1,
   "metadata": {},
   "outputs": [],
   "source": [
    "import tensorflow as tf\n"
   ]
  },
  {
   "cell_type": "code",
   "execution_count": 2,
   "metadata": {},
   "outputs": [
    {
     "name": "stdout",
     "output_type": "stream",
     "text": [
      "WARNING:tensorflow:From F:\\anaconda\\lib\\site-packages\\tensorflow\\python\\framework\\op_def_library.py:263: colocate_with (from tensorflow.python.framework.ops) is deprecated and will be removed in a future version.\n",
      "Instructions for updating:\n",
      "Colocations handled automatically by placer.\n",
      "[[-1.0475043   0.12091868]]\n",
      "####################################################################################################\n",
      "[[ 1.2037245 -0.7830084  0.5061059]\n",
      " [-1.0907354  0.4663608 -0.7006576]]\n",
      "####################################################################################################\n",
      "model save in : save/model.ckpt\n"
     ]
    }
   ],
   "source": [
    "v1 = tf.Variable(tf.random_normal([1,2],name=\"v1\"))\n",
    "v2 = tf.Variable(tf.random_normal([2,3],name=\"v2\"))\n",
    "init_op = tf.global_variables_initializer()\n",
    "\n",
    "saver = tf.train.Saver()\n",
    "\n",
    "with tf.Session() as sess:\n",
    "    sess.run(init_op)\n",
    "    print(sess.run(v1))\n",
    "    print(\"#\"*100)\n",
    "    print(sess.run(v2))\n",
    "    print(\"#\"*100)\n",
    "    save_path = saver.save(sess,\"save/model.ckpt\")\n",
    "    print(\"model save in :\",save_path)"
   ]
  },
  {
   "cell_type": "code",
   "execution_count": 1,
   "metadata": {},
   "outputs": [
    {
     "name": "stdout",
     "output_type": "stream",
     "text": [
      "WARNING:tensorflow:From F:\\anaconda\\lib\\site-packages\\tensorflow\\python\\framework\\op_def_library.py:263: colocate_with (from tensorflow.python.framework.ops) is deprecated and will be removed in a future version.\n",
      "Instructions for updating:\n",
      "Colocations handled automatically by placer.\n",
      "WARNING:tensorflow:From F:\\anaconda\\lib\\site-packages\\tensorflow\\python\\training\\saver.py:1266: checkpoint_exists (from tensorflow.python.training.checkpoint_management) is deprecated and will be removed in a future version.\n",
      "Instructions for updating:\n",
      "Use standard file APIs to check for files with this prefix.\n",
      "INFO:tensorflow:Restoring parameters from save/model.ckpt\n",
      "[[-1.0475043   0.12091868]]\n",
      "####################################################################################################\n",
      "[[ 1.2037245 -0.7830084  0.5061059]\n",
      " [-1.0907354  0.4663608 -0.7006576]]\n",
      "####################################################################################################\n",
      "model restore\n"
     ]
    }
   ],
   "source": [
    "import tensorflow as tf\n",
    "v1 = tf.Variable(tf.random_normal([1,2],name=\"v1\"))\n",
    "v2 = tf.Variable(tf.random_normal([2,3],name=\"v2\"))\n",
    "\n",
    "\n",
    "saver = tf.train.Saver()\n",
    "with tf.Session() as sess:\n",
    "    saver.restore(sess,\"save/model.ckpt\")\n",
    "    print(sess.run(v1))\n",
    "    print(\"#\"*100)\n",
    "    print(sess.run(v2))\n",
    "    print(\"#\"*100)\n",
    "    print(\"model restore\")"
   ]
  },
  {
   "cell_type": "code",
   "execution_count": null,
   "metadata": {},
   "outputs": [],
   "source": []
  }
 ],
 "metadata": {
  "kernelspec": {
   "display_name": "Python 3",
   "language": "python",
   "name": "python3"
  },
  "language_info": {
   "codemirror_mode": {
    "name": "ipython",
    "version": 3
   },
   "file_extension": ".py",
   "mimetype": "text/x-python",
   "name": "python",
   "nbconvert_exporter": "python",
   "pygments_lexer": "ipython3",
   "version": "3.7.3"
  }
 },
 "nbformat": 4,
 "nbformat_minor": 2
}
