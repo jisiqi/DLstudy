{
 "cells": [
  {
   "cell_type": "code",
   "execution_count": null,
   "metadata": {},
   "outputs": [],
   "source": [
    "import matplotlib as mpl\n",
    "import matplotlib.pyplot as plt\n",
    "%matplotlib inline\n",
    "import numpy as np\n",
    "import sklearn\n",
    "import pandas as pd\n",
    "import os \n",
    "import sys\n",
    "import time\n",
    "import tensorflow as tf\n",
    "from tensorflow import keras"
   ]
  },
  {
   "cell_type": "code",
   "execution_count": 2,
   "metadata": {},
   "outputs": [
    {
     "ename": "NameError",
     "evalue": "name 'tf' is not defined",
     "output_type": "error",
     "traceback": [
      "\u001b[1;31m---------------------------------------------------------------------------\u001b[0m",
      "\u001b[1;31mNameError\u001b[0m                                 Traceback (most recent call last)",
      "\u001b[1;32m<ipython-input-2-0943eeb3412c>\u001b[0m in \u001b[0;36m<module>\u001b[1;34m\u001b[0m\n\u001b[1;32m----> 1\u001b[1;33m \u001b[0mversion\u001b[0m \u001b[1;33m=\u001b[0m \u001b[0mtf\u001b[0m\u001b[1;33m.\u001b[0m\u001b[0m__version__\u001b[0m\u001b[1;33m\u001b[0m\u001b[1;33m\u001b[0m\u001b[0m\n\u001b[0m\u001b[0;32m      2\u001b[0m \u001b[0mgpu_ok\u001b[0m \u001b[1;33m=\u001b[0m \u001b[0mtf\u001b[0m\u001b[1;33m.\u001b[0m\u001b[0mtest\u001b[0m\u001b[1;33m.\u001b[0m\u001b[0mis_gpu_available\u001b[0m\u001b[1;33m(\u001b[0m\u001b[1;33m)\u001b[0m\u001b[1;33m\u001b[0m\u001b[1;33m\u001b[0m\u001b[0m\n\u001b[0;32m      3\u001b[0m \u001b[0mprint\u001b[0m\u001b[1;33m(\u001b[0m\u001b[1;34m\"tf version:\"\u001b[0m\u001b[1;33m,\u001b[0m\u001b[0mversion\u001b[0m\u001b[1;33m,\u001b[0m\u001b[1;34m\"\\nuse GPU\"\u001b[0m\u001b[1;33m,\u001b[0m\u001b[0mgpu_ok\u001b[0m\u001b[1;33m)\u001b[0m\u001b[1;33m\u001b[0m\u001b[1;33m\u001b[0m\u001b[0m\n",
      "\u001b[1;31mNameError\u001b[0m: name 'tf' is not defined"
     ]
    }
   ],
   "source": [
    "version = tf.__version__\n",
    "gpu_ok = tf.test.is_gpu_available()\n",
    "print(\"tf version:\",version,\"\\nuse GPU\",gpu_ok)"
   ]
  },
  {
   "cell_type": "code",
   "execution_count": 2,
   "metadata": {},
   "outputs": [
    {
     "name": "stdout",
     "output_type": "stream",
     "text": [
      ".. _california_housing_dataset:\n",
      "\n",
      "California Housing dataset\n",
      "--------------------------\n",
      "\n",
      "**Data Set Characteristics:**\n",
      "\n",
      "    :Number of Instances: 20640\n",
      "\n",
      "    :Number of Attributes: 8 numeric, predictive attributes and the target\n",
      "\n",
      "    :Attribute Information:\n",
      "        - MedInc        median income in block\n",
      "        - HouseAge      median house age in block\n",
      "        - AveRooms      average number of rooms\n",
      "        - AveBedrms     average number of bedrooms\n",
      "        - Population    block population\n",
      "        - AveOccup      average house occupancy\n",
      "        - Latitude      house block latitude\n",
      "        - Longitude     house block longitude\n",
      "\n",
      "    :Missing Attribute Values: None\n",
      "\n",
      "This dataset was obtained from the StatLib repository.\n",
      "http://lib.stat.cmu.edu/datasets/\n",
      "\n",
      "The target variable is the median house value for California districts.\n",
      "\n",
      "This dataset was derived from the 1990 U.S. census, using one row per census\n",
      "block group. A block group is the smallest geographical unit for which the U.S.\n",
      "Census Bureau publishes sample data (a block group typically has a population\n",
      "of 600 to 3,000 people).\n",
      "\n",
      "It can be downloaded/loaded using the\n",
      ":func:`sklearn.datasets.fetch_california_housing` function.\n",
      "\n",
      ".. topic:: References\n",
      "\n",
      "    - Pace, R. Kelley and Ronald Barry, Sparse Spatial Autoregressions,\n",
      "      Statistics and Probability Letters, 33 (1997) 291-297\n",
      "\n",
      "(20640, 8)\n",
      "(20640,)\n"
     ]
    }
   ],
   "source": [
    "from sklearn.datasets import fetch_california_housing\n",
    "\n",
    "housing = fetch_california_housing()\n",
    "print(housing.DESCR)\n",
    "print(housing.data.shape)\n",
    "print(housing.target.shape)"
   ]
  },
  {
   "cell_type": "code",
   "execution_count": 3,
   "metadata": {},
   "outputs": [
    {
     "name": "stdout",
     "output_type": "stream",
     "text": [
      "(14448, 8) (14448,)\n",
      "(2064, 8) (2064,)\n",
      "(4128, 8) (4128,)\n"
     ]
    }
   ],
   "source": [
    "#分割数据集为：0.7训练集，0.1验证集，0.2测试集\n",
    "\n",
    "from sklearn.model_selection import train_test_split\n",
    "\n",
    "x_train_all,x_test,y_train_all,y_test = train_test_split(\n",
    "        housing.data,\n",
    "        housing.target,\n",
    "        random_state = 7,\n",
    "        test_size=0.2)\n",
    "\n",
    "x_train,x_valid,y_train,y_valid = train_test_split(\n",
    "        x_train_all,\n",
    "        y_train_all,\n",
    "        random_state=11,\n",
    "        test_size=0.125)\n",
    "\n",
    "print(x_train.shape,y_train.shape)\n",
    "print(x_valid.shape,y_valid.shape)\n",
    "print(x_test.shape,y_test.shape)"
   ]
  },
  {
   "cell_type": "code",
   "execution_count": 4,
   "metadata": {},
   "outputs": [],
   "source": [
    "#归一化操作  x = (s-u)/std   减去均值，除以方差\n",
    "\n",
    "from sklearn.preprocessing import StandardScaler\n",
    "\n",
    "scaler = StandardScaler()\n",
    "\n",
    "\n",
    "x_train_scaler = scaler.fit_transform(x_train)\n",
    "x_valid_scaler = scaler.transform(x_valid)\n",
    "x_test_scaler = scaler.transform(x_test)"
   ]
  },
  {
   "cell_type": "code",
   "execution_count": 5,
   "metadata": {},
   "outputs": [
    {
     "name": "stdout",
     "output_type": "stream",
     "text": [
      "WARNING:tensorflow:From F:\\Anaconda\\lib\\site-packages\\tensorflow\\python\\ops\\init_ops.py:1251: calling VarianceScaling.__init__ (from tensorflow.python.ops.init_ops) with dtype is deprecated and will be removed in a future version.\n",
      "Instructions for updating:\n",
      "Call initializer instance with the dtype argument instead of passing it to the constructor\n",
      "Model: \"sequential\"\n",
      "_________________________________________________________________\n",
      "Layer (type)                 Output Shape              Param #   \n",
      "=================================================================\n",
      "dense (Dense)                (None, 30)                270       \n",
      "_________________________________________________________________\n",
      "dense_1 (Dense)              (None, 1)                 31        \n",
      "=================================================================\n",
      "Total params: 301\n",
      "Trainable params: 301\n",
      "Non-trainable params: 0\n",
      "_________________________________________________________________\n"
     ]
    }
   ],
   "source": [
    "#tf.keras.models.Sequential\n",
    "\n",
    "model = keras.models.Sequential([\n",
    "    \n",
    "    keras.layers.Dense(30, activation=\"relu\", input_shape = x_train.shape[1:]),\n",
    "    keras.layers.Dense(1)\n",
    "])\n",
    "\n",
    "\n",
    "model.summary()\n",
    "model.compile(loss=\"mean_squared_error\",\n",
    "             optimizer=\"sgd\",\n",
    "             metrics=[\"accuracy\"])"
   ]
  },
  {
   "cell_type": "code",
   "execution_count": 6,
   "metadata": {},
   "outputs": [
    {
     "name": "stdout",
     "output_type": "stream",
     "text": [
      "Train on 14448 samples, validate on 2064 samples\n",
      "Epoch 1/100\n",
      "14448/14448 [==============================] - 1s 71us/sample - loss: 0.8061 - acc: 0.0028 - val_loss: 0.4868 - val_acc: 0.0039\n",
      "Epoch 2/100\n",
      "14448/14448 [==============================] - 0s 25us/sample - loss: 0.4834 - acc: 0.0028 - val_loss: 0.4361 - val_acc: 0.0039\n",
      "Epoch 3/100\n",
      "14448/14448 [==============================] - 0s 22us/sample - loss: 0.4418 - acc: 0.0028 - val_loss: 0.4212 - val_acc: 0.0034\n",
      "Epoch 4/100\n",
      "14448/14448 [==============================] - 0s 22us/sample - loss: 0.4247 - acc: 0.0028 - val_loss: 0.4062 - val_acc: 0.0039\n",
      "Epoch 5/100\n",
      "14448/14448 [==============================] - 0s 24us/sample - loss: 0.4132 - acc: 0.0028 - val_loss: 0.3954 - val_acc: 0.0039\n",
      "Epoch 6/100\n",
      "14448/14448 [==============================] - 0s 25us/sample - loss: 0.4029 - acc: 0.0028 - val_loss: 0.3938 - val_acc: 0.0039\n",
      "Epoch 7/100\n",
      "14448/14448 [==============================] - 0s 23us/sample - loss: 0.3951 - acc: 0.0028 - val_loss: 0.3848 - val_acc: 0.0039\n",
      "Epoch 8/100\n",
      "14448/14448 [==============================] - 0s 22us/sample - loss: 0.3885 - acc: 0.0028 - val_loss: 0.3761 - val_acc: 0.0039\n",
      "Epoch 9/100\n",
      "14448/14448 [==============================] - 0s 28us/sample - loss: 0.3891 - acc: 0.0028 - val_loss: 0.3735 - val_acc: 0.0039\n",
      "Epoch 10/100\n",
      "14448/14448 [==============================] - 0s 21us/sample - loss: 0.3807 - acc: 0.0028 - val_loss: 0.3724 - val_acc: 0.0039\n",
      "Epoch 11/100\n",
      "14448/14448 [==============================] - 0s 21us/sample - loss: 0.3773 - acc: 0.0028 - val_loss: 0.3673 - val_acc: 0.0039\n",
      "Epoch 12/100\n",
      "14448/14448 [==============================] - 0s 21us/sample - loss: 0.3714 - acc: 0.0028 - val_loss: 0.3665 - val_acc: 0.0039\n",
      "Epoch 13/100\n",
      "14448/14448 [==============================] - 0s 23us/sample - loss: 0.3734 - acc: 0.0028 - val_loss: 0.3726 - val_acc: 0.0039\n",
      "Epoch 14/100\n",
      "14448/14448 [==============================] - 0s 21us/sample - loss: 0.3859 - acc: 0.0028 - val_loss: 0.3653 - val_acc: 0.0039\n",
      "Epoch 15/100\n",
      "14448/14448 [==============================] - 0s 21us/sample - loss: 0.3677 - acc: 0.0028 - val_loss: 0.3619 - val_acc: 0.0039\n",
      "Epoch 16/100\n",
      "14448/14448 [==============================] - 0s 23us/sample - loss: 0.3659 - acc: 0.0028 - val_loss: 0.3583 - val_acc: 0.0039\n",
      "Epoch 17/100\n",
      "14448/14448 [==============================] - 0s 26us/sample - loss: 0.3604 - acc: 0.0028 - val_loss: 0.3594 - val_acc: 0.0039\n",
      "Epoch 18/100\n",
      "14448/14448 [==============================] - 0s 28us/sample - loss: 0.3617 - acc: 0.0028 - val_loss: 0.3571 - val_acc: 0.0039\n",
      "Epoch 19/100\n",
      "14448/14448 [==============================] - 0s 23us/sample - loss: 0.3572 - acc: 0.0028 - val_loss: 0.3585 - val_acc: 0.0039\n",
      "Epoch 20/100\n",
      "14448/14448 [==============================] - 0s 23us/sample - loss: 0.3545 - acc: 0.0028 - val_loss: 0.3577 - val_acc: 0.0039\n",
      "Epoch 21/100\n",
      "14448/14448 [==============================] - 0s 21us/sample - loss: 0.3529 - acc: 0.0028 - val_loss: 0.3536 - val_acc: 0.0039\n",
      "Epoch 22/100\n",
      "14448/14448 [==============================] - 0s 21us/sample - loss: 0.3514 - acc: 0.0028 - val_loss: 0.3516 - val_acc: 0.0039\n",
      "Epoch 23/100\n",
      "14448/14448 [==============================] - 0s 23us/sample - loss: 0.3505 - acc: 0.0028 - val_loss: 0.3564 - val_acc: 0.0039\n",
      "Epoch 24/100\n",
      "14448/14448 [==============================] - 0s 22us/sample - loss: 0.3496 - acc: 0.0028 - val_loss: 0.3487 - val_acc: 0.0039\n",
      "Epoch 25/100\n",
      "14448/14448 [==============================] - 0s 21us/sample - loss: 0.3469 - acc: 0.0028 - val_loss: 0.3502 - val_acc: 0.0039\n",
      "Epoch 26/100\n",
      "14448/14448 [==============================] - 0s 25us/sample - loss: 0.3591 - acc: 0.0028 - val_loss: 0.3485 - val_acc: 0.0039\n",
      "Epoch 27/100\n",
      "14448/14448 [==============================] - 0s 21us/sample - loss: 0.3670 - acc: 0.0028 - val_loss: 0.3474 - val_acc: 0.0039\n",
      "Epoch 28/100\n",
      "14448/14448 [==============================] - 0s 21us/sample - loss: 0.3466 - acc: 0.0028 - val_loss: 0.3441 - val_acc: 0.0039\n",
      "Epoch 29/100\n",
      "14448/14448 [==============================] - 0s 23us/sample - loss: 0.3442 - acc: 0.0028 - val_loss: 0.3441 - val_acc: 0.0039\n",
      "Epoch 30/100\n",
      "14448/14448 [==============================] - 0s 22us/sample - loss: 0.3434 - acc: 0.0028 - val_loss: 0.3457 - val_acc: 0.0039\n",
      "Epoch 31/100\n",
      "14448/14448 [==============================] - 0s 21us/sample - loss: 0.3418 - acc: 0.0028 - val_loss: 0.3444 - val_acc: 0.0039\n",
      "Epoch 32/100\n",
      "14448/14448 [==============================] - 0s 21us/sample - loss: 0.3408 - acc: 0.0028 - val_loss: 0.3447 - val_acc: 0.0039\n",
      "Epoch 33/100\n",
      "14448/14448 [==============================] - 0s 22us/sample - loss: 0.3398 - acc: 0.0028 - val_loss: 0.3416 - val_acc: 0.0039\n",
      "Epoch 34/100\n",
      "14448/14448 [==============================] - 0s 24us/sample - loss: 0.3405 - acc: 0.0028 - val_loss: 0.3482 - val_acc: 0.0039\n",
      "Epoch 35/100\n",
      "14448/14448 [==============================] - 0s 25us/sample - loss: 0.3389 - acc: 0.0028 - val_loss: 0.3423 - val_acc: 0.0039\n",
      "Epoch 36/100\n",
      "14448/14448 [==============================] - 0s 28us/sample - loss: 0.3388 - acc: 0.0028 - val_loss: 0.3408 - val_acc: 0.0039\n",
      "Epoch 37/100\n",
      "14448/14448 [==============================] - 0s 22us/sample - loss: 0.3369 - acc: 0.0028 - val_loss: 0.3433 - val_acc: 0.0039\n",
      "Epoch 38/100\n",
      "14448/14448 [==============================] - 0s 22us/sample - loss: 0.3379 - acc: 0.0028 - val_loss: 0.3416 - val_acc: 0.0039\n"
     ]
    }
   ],
   "source": [
    "history = model.fit(x_train_scaler, y_train, epochs = 100,\n",
    "                   validation_data=(x_valid_scaler,y_valid),\n",
    "                   \n",
    "                   callbacks = [keras.callbacks.EarlyStopping(patience=5,min_delta=1e-3)]\n",
    "                   )"
   ]
  },
  {
   "cell_type": "code",
   "execution_count": null,
   "metadata": {},
   "outputs": [],
   "source": []
  }
 ],
 "metadata": {
  "kernelspec": {
   "display_name": "Python [conda env:TF2]",
   "language": "python",
   "name": "conda-env-TF2-py"
  },
  "language_info": {
   "codemirror_mode": {
    "name": "ipython",
    "version": 3
   },
   "file_extension": ".py",
   "mimetype": "text/x-python",
   "name": "python",
   "nbconvert_exporter": "python",
   "pygments_lexer": "ipython3",
   "version": "3.6.9"
  }
 },
 "nbformat": 4,
 "nbformat_minor": 2
}
