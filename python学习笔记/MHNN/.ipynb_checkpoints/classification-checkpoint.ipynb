{
 "cells": [
  {
   "cell_type": "code",
   "execution_count": 1,
   "metadata": {},
   "outputs": [
    {
     "name": "stderr",
     "output_type": "stream",
     "text": [
      "E:\\Anaconda\\lib\\site-packages\\tensorflow\\python\\framework\\dtypes.py:516: FutureWarning: Passing (type, 1) or '1type' as a synonym of type is deprecated; in a future version of numpy, it will be understood as (type, (1,)) / '(1,)type'.\n",
      "  _np_qint8 = np.dtype([(\"qint8\", np.int8, 1)])\n",
      "E:\\Anaconda\\lib\\site-packages\\tensorflow\\python\\framework\\dtypes.py:517: FutureWarning: Passing (type, 1) or '1type' as a synonym of type is deprecated; in a future version of numpy, it will be understood as (type, (1,)) / '(1,)type'.\n",
      "  _np_quint8 = np.dtype([(\"quint8\", np.uint8, 1)])\n",
      "E:\\Anaconda\\lib\\site-packages\\tensorflow\\python\\framework\\dtypes.py:518: FutureWarning: Passing (type, 1) or '1type' as a synonym of type is deprecated; in a future version of numpy, it will be understood as (type, (1,)) / '(1,)type'.\n",
      "  _np_qint16 = np.dtype([(\"qint16\", np.int16, 1)])\n",
      "E:\\Anaconda\\lib\\site-packages\\tensorflow\\python\\framework\\dtypes.py:519: FutureWarning: Passing (type, 1) or '1type' as a synonym of type is deprecated; in a future version of numpy, it will be understood as (type, (1,)) / '(1,)type'.\n",
      "  _np_quint16 = np.dtype([(\"quint16\", np.uint16, 1)])\n",
      "E:\\Anaconda\\lib\\site-packages\\tensorflow\\python\\framework\\dtypes.py:520: FutureWarning: Passing (type, 1) or '1type' as a synonym of type is deprecated; in a future version of numpy, it will be understood as (type, (1,)) / '(1,)type'.\n",
      "  _np_qint32 = np.dtype([(\"qint32\", np.int32, 1)])\n",
      "E:\\Anaconda\\lib\\site-packages\\tensorflow\\python\\framework\\dtypes.py:525: FutureWarning: Passing (type, 1) or '1type' as a synonym of type is deprecated; in a future version of numpy, it will be understood as (type, (1,)) / '(1,)type'.\n",
      "  np_resource = np.dtype([(\"resource\", np.ubyte, 1)])\n",
      "E:\\Anaconda\\lib\\site-packages\\tensorboard\\compat\\tensorflow_stub\\dtypes.py:541: FutureWarning: Passing (type, 1) or '1type' as a synonym of type is deprecated; in a future version of numpy, it will be understood as (type, (1,)) / '(1,)type'.\n",
      "  _np_qint8 = np.dtype([(\"qint8\", np.int8, 1)])\n",
      "E:\\Anaconda\\lib\\site-packages\\tensorboard\\compat\\tensorflow_stub\\dtypes.py:542: FutureWarning: Passing (type, 1) or '1type' as a synonym of type is deprecated; in a future version of numpy, it will be understood as (type, (1,)) / '(1,)type'.\n",
      "  _np_quint8 = np.dtype([(\"quint8\", np.uint8, 1)])\n",
      "E:\\Anaconda\\lib\\site-packages\\tensorboard\\compat\\tensorflow_stub\\dtypes.py:543: FutureWarning: Passing (type, 1) or '1type' as a synonym of type is deprecated; in a future version of numpy, it will be understood as (type, (1,)) / '(1,)type'.\n",
      "  _np_qint16 = np.dtype([(\"qint16\", np.int16, 1)])\n",
      "E:\\Anaconda\\lib\\site-packages\\tensorboard\\compat\\tensorflow_stub\\dtypes.py:544: FutureWarning: Passing (type, 1) or '1type' as a synonym of type is deprecated; in a future version of numpy, it will be understood as (type, (1,)) / '(1,)type'.\n",
      "  _np_quint16 = np.dtype([(\"quint16\", np.uint16, 1)])\n",
      "E:\\Anaconda\\lib\\site-packages\\tensorboard\\compat\\tensorflow_stub\\dtypes.py:545: FutureWarning: Passing (type, 1) or '1type' as a synonym of type is deprecated; in a future version of numpy, it will be understood as (type, (1,)) / '(1,)type'.\n",
      "  _np_qint32 = np.dtype([(\"qint32\", np.int32, 1)])\n",
      "E:\\Anaconda\\lib\\site-packages\\tensorboard\\compat\\tensorflow_stub\\dtypes.py:550: FutureWarning: Passing (type, 1) or '1type' as a synonym of type is deprecated; in a future version of numpy, it will be understood as (type, (1,)) / '(1,)type'.\n",
      "  np_resource = np.dtype([(\"resource\", np.ubyte, 1)])\n"
     ]
    }
   ],
   "source": [
    "import numpy as np\n",
    "import pandas as pd\n",
    "import tensorflow as tf\n",
    "from tensorflow import keras\n",
    "# from keras.utils import np_utils\n",
    "# from keras import backend as K\n",
    "# from tensorflow.examples.tutorials.mnist import input_data\n",
    "# from keras import regularizers\n",
    "# from keras.utils import plot_model\n",
    "# from keras.models import load_model\n",
    "# import matplotlib.pyplot as plt\n",
    "from sklearn import preprocessing"
   ]
  },
  {
   "cell_type": "code",
   "execution_count": 2,
   "metadata": {},
   "outputs": [
    {
     "name": "stderr",
     "output_type": "stream",
     "text": [
      "Using TensorFlow backend.\n"
     ]
    }
   ],
   "source": [
    "import seaborn as sns\n",
    "\n",
    "from keras.callbacks import Callback\n",
    "from sklearn.metrics import confusion_matrix, f1_score, precision_score, recall_score\n"
   ]
  },
  {
   "cell_type": "code",
   "execution_count": 21,
   "metadata": {},
   "outputs": [],
   "source": [
    "from keras import backend as K"
   ]
  },
  {
   "cell_type": "code",
   "execution_count": 3,
   "metadata": {},
   "outputs": [],
   "source": [
    "# 设定随机数\n",
    "seed = 7\n",
    "np.random.seed(seed)\n",
    "# 类别个数\n",
    "num_classes = 3\n",
    "# 图片大小\n",
    "lng = 27\n",
    "# 属性维度\n",
    "att_d = 4\n",
    "int_shp = (lng, lng, att_d)"
   ]
  },
  {
   "cell_type": "code",
   "execution_count": 4,
   "metadata": {},
   "outputs": [
    {
     "name": "stdout",
     "output_type": "stream",
     "text": [
      "loading data\n"
     ]
    }
   ],
   "source": [
    "samp_name_b1 = 'E:/20190924_match_pro/classification/data/sb6127_116.csv'\n",
    "samp_name_b2 = 'E:/20190924_match_pro/classification/data/sb6127_aver_116.csv'\n",
    "samp_name_b3 = 'E:/20190924_match_pro/classification/data/sb6127_max_116.csv'\n",
    "samp_name_b4 = 'E:/20190924_match_pro/classification/data/sb6127_min_116.csv'\n",
    "labe_name    = 'E:/20190924_match_pro/classification/data/lb6127_116.csv'\n",
    "# 加载数据\n",
    "print('loading data')\n",
    "x_train1 = pd.read_csv(samp_name_b1, header=None)\n",
    "x_train2 = pd.read_csv(samp_name_b2, header=None)\n",
    "x_train3 = pd.read_csv(samp_name_b3, header=None)\n",
    "x_train4 = pd.read_csv(samp_name_b4, header=None)\n",
    "y_train  = pd.read_csv(labe_name, header=None)"
   ]
  },
  {
   "cell_type": "code",
   "execution_count": 5,
   "metadata": {},
   "outputs": [
    {
     "name": "stdout",
     "output_type": "stream",
     "text": [
      "(124176, 729)\n",
      "(124176, 729)\n",
      "(124176, 729)\n",
      "(124176, 729)\n",
      "(124176, 1)\n"
     ]
    }
   ],
   "source": [
    "print(x_train1.shape)\n",
    "print(x_train2.shape)\n",
    "print(x_train3.shape)\n",
    "print(x_train4.shape)\n",
    "print(y_train.shape)"
   ]
  },
  {
   "cell_type": "code",
   "execution_count": 6,
   "metadata": {},
   "outputs": [
    {
     "name": "stdout",
     "output_type": "stream",
     "text": [
      "concatting matrax\n"
     ]
    }
   ],
   "source": [
    "print('concatting matrax')\n",
    "x_train = [x_train1, x_train2, x_train3, x_train4]"
   ]
  },
  {
   "cell_type": "code",
   "execution_count": 7,
   "metadata": {},
   "outputs": [
    {
     "name": "stdout",
     "output_type": "stream",
     "text": [
      "(124176, 2916)\n"
     ]
    }
   ],
   "source": [
    "\n",
    "x_train = pd.concat(x_train, 1)\n",
    "x_train = preprocessing.scale(x_train)\n",
    "print(x_train.shape)"
   ]
  },
  {
   "cell_type": "code",
   "execution_count": 8,
   "metadata": {},
   "outputs": [
    {
     "name": "stdout",
     "output_type": "stream",
     "text": [
      "transporting dimention\n",
      "(124176, 2916)\n",
      "(124176, 27, 27, 4)\n"
     ]
    }
   ],
   "source": [
    "# 数据维度转换\n",
    "print('transporting dimention')\n",
    "x_train = np.array(x_train)\n",
    "print(x_train.shape)\n",
    "x_train_all = x_train.reshape(x_train.shape[0], lng, lng, att_d).astype('float32')\n",
    "print(x_train_all.shape)\n"
   ]
  },
  {
   "cell_type": "code",
   "execution_count": 9,
   "metadata": {},
   "outputs": [
    {
     "name": "stdout",
     "output_type": "stream",
     "text": [
      "(124176, 2916)\n"
     ]
    },
    {
     "data": {
      "image/png": "[encoded data removed]",
      "text/plain": [
       "<Figure size 360x360 with 2 Axes>"
      ]
     },
     "metadata": {},
     "output_type": "display_data"
    }
   ],
   "source": [
    "print(x_train.shape)\n",
    "\n",
    "sns.set(rc={\"figure.figsize\": (5, 5)})\n",
    "# abc = sns.choose_colorbrewer_palette(\"sequential\")\n",
    "abc = sns.color_palette(\"Greys_r\")\n",
    "ax = sns.heatmap(x_train_all[2,:,:,0],cmap=abc)"
   ]
  },
  {
   "cell_type": "code",
   "execution_count": 10,
   "metadata": {},
   "outputs": [
    {
     "name": "stdout",
     "output_type": "stream",
     "text": [
      "(124176, 1)\n",
      "(124176, 3)\n"
     ]
    }
   ],
   "source": [
    "y_train = np.array(y_train)\n",
    "print(y_train.shape)\n",
    "y_onehot = np.zeros([len(y_train), num_classes])\n",
    "print(y_onehot.shape)\n"
   ]
  },
  {
   "cell_type": "code",
   "execution_count": 11,
   "metadata": {},
   "outputs": [
    {
     "name": "stdout",
     "output_type": "stream",
     "text": [
      "encoding one-hot\n"
     ]
    }
   ],
   "source": [
    "# 独热编码\n",
    "print('encoding one-hot')\n",
    "y_train = np.array(y_train)\n",
    "y_onehot = np.zeros([len(y_train), num_classes])\n",
    "for i in range(len(y_train)) :\n",
    "    if y_train[i,0] == 1 :\n",
    "        y_onehot[i, 0] = 1\n",
    "    if y_train[i,0] == 2 :\n",
    "        y_onehot[i, 1] = 1\n",
    "    if y_train[i,0] == 3 :\n",
    "        y_onehot[i, 2] = 1\n",
    "y_train = y_onehot"
   ]
  },
  {
   "cell_type": "code",
   "execution_count": 12,
   "metadata": {},
   "outputs": [
    {
     "name": "stdout",
     "output_type": "stream",
     "text": [
      "(1000, 27, 27, 4)\n",
      "(123176, 27, 27, 4)\n"
     ]
    }
   ],
   "source": [
    "x_valid,x_train = x_train_all[:1000],x_train_all[1000:]\n",
    "y_valid,y_train = y_onehot[:1000],y_onehot[1000:]\n",
    "\n",
    "print(x_valid.shape)\n",
    "print(x_train.shape)"
   ]
  },
  {
   "cell_type": "code",
   "execution_count": 13,
   "metadata": {},
   "outputs": [],
   "source": [
    "class Metrics(keras.callbacks.Callback):\n",
    "    def on_train_begin(self, logs={}):\n",
    "        self.val_f1s = []\n",
    "        self.val_recalls = []\n",
    "        self.val_precisions = []\n",
    "\n",
    "    def on_epoch_end(self, epoch, logs={}):\n",
    "        \n",
    "        \n",
    "        x_val = self.validation_data[0]\n",
    "        y_val = self.validation_data[1]\n",
    "        \n",
    "#         val_predict = (np.asarray(self.model.predict(self.validation_data[0]))).round()\n",
    "        val_predict = np.argmax(np.asarray(self.model.predict(x_val)), axis=1)\n",
    "#         val_targ = self.validation_data[1]\n",
    "        val_targ = np.argmax(y_val, axis=1)\n",
    "        _val_f1 = f1_score(val_targ, val_predict, average='macro')\n",
    "#         _val_recall = recall_score(val_targ, val_predict)\n",
    "#         _val_precision = precision_score(val_targ, val_predict)\n",
    "        self.val_f1s.append(_val_f1)\n",
    "#         self.val_recalls.append(_val_recall)\n",
    "#         self.val_precisions.append(_val_precision)\n",
    "#         print('— val_f1: %f — val_precision: %f — val_recall %f' %(_val_f1, _val_precision, _val_recall))\n",
    "        print(' — val_f1:' ,_val_f1)\n",
    "        return\n"
   ]
  },
  {
   "cell_type": "code",
   "execution_count": null,
   "metadata": {},
   "outputs": [],
   "source": [
    "def vgg_model():\n",
    "    \n",
    "    model = keras.models.Sequential()\n",
    "    model.add(keras.layers.Conv2D(filters=16, kernel_size=3, activation='relu',padding='same', input_shape=int_shp))\n",
    "    model.add(keras.layers.Conv2D(filters=16, kernel_size=3, activation='relu', padding='same', ))\n",
    "    model.add(keras.layers.MaxPooling2D(pool_size=2, strides=2, padding='same'))\n",
    "    model.add(keras.layers.Conv2D(filters=32, kernel_size=3, activation='relu',padding='same',))\n",
    "    model.add(keras.layers.Conv2D(filters=32, kernel_size=3, activation='relu', padding='same', ))\n",
    "    model.add(keras.layers.MaxPooling2D(pool_size=2, strides=2, padding='same'))\n",
    "    model.add(keras.layers.Conv2D(filters=64, kernel_size=3, activation='relu', padding='same'))\n",
    "    model.add(keras.layers.Conv2D(filters=64, kernel_size=3, activation='relu', padding='same'))\n",
    "    model.add(keras.layers.MaxPooling2D(pool_size=2, strides=2, padding='same'))\n",
    "     \n",
    "    model.add(keras.layers.Flatten())\n",
    "    model.add(keras.layers.Dense(2048, activation='relu'))\n",
    "    model.add(keras.layers.Dense(1024, activation='relu'))\n",
    "    model.add(keras.layers.Dropout(0.1))\n",
    "    model.add(keras.layers.Dense(512, activation='relu'))\n",
    "    model.add(keras.layers.Dropout(0.1))\n",
    "    model.add(keras.layers.Dense(num_classes, activation='softmax'))\n",
    "    # 编译\n",
    "    #sgd = optimizers.SGD(lr=0.1, decay=1e-6, momentum=0.9, nesterov=True)\n",
    "    adam = keras.optimizers.Adam(lr=0.01, decay=0.1)\n",
    "    \n",
    "    def focal_loss(gamma=2., alpha=.25):\n",
    "        def focal_loss_fixed(y_true, y_pred):\n",
    "            pt_1 = tf.where(tf.equal(y_true, 1), y_pred, tf.ones_like(y_pred))\n",
    "            pt_0 = tf.where(tf.equal(y_true, 0), y_pred, tf.zeros_like(y_pred))\n",
    "            return -K.sum(alpha * K.pow(1. - pt_1, gamma) * K.log(K.epsilon()+pt_1))-K.sum((1-alpha) * K.pow( pt_0, gamma) * K.log(1. - pt_0 + K.epsilon()))\n",
    "        return focal_loss_fixed\n",
    "\n",
    "    \n",
    "\n",
    "\n",
    "    def f1(y_true, y_pred):\n",
    "        def recall(y_true, y_pred):\n",
    "            \"\"\"Recall metric.\n",
    "\n",
    "            Only computes a batch-wise average of recall.\n",
    "\n",
    "            Computes the recall, a metric for multi-label classification of\n",
    "            how many relevant items are selected.\n",
    "            \"\"\"\n",
    "            true_positives = K.sum(K.round(K.clip(y_true * y_pred, 0, 1)))\n",
    "            possible_positives = K.sum(K.round(K.clip(y_true, 0, 1)))\n",
    "            recall = true_positives / (possible_positives + K.epsilon())\n",
    "            return recall\n",
    "\n",
    "        def precision(y_true, y_pred):\n",
    "            \"\"\"Precision metric.\n",
    "\n",
    "            Only computes a batch-wise average of precision.\n",
    "\n",
    "            Computes the precision, a metric for multi-label classification of\n",
    "            how many selected items are relevant.\n",
    "            \"\"\"\n",
    "            true_positives = K.sum(K.round(K.clip(y_true * y_pred, 0, 1)))\n",
    "            predicted_positives = K.sum(K.round(K.clip(y_pred, 0, 1)))\n",
    "            precision = true_positives / (predicted_positives + K.epsilon())\n",
    "            return precision\n",
    "        precision = precision(y_true, y_pred)\n",
    "        recall = recall(y_true, y_pred)\n",
    "        return 2*((precision*recall)/(precision+recall+K.epsilon()))\n",
    "\n",
    "    model.compile(loss=focal_loss, optimizer='adam', metrics=[f1])\n",
    "    return model\n"
   ]
  },
  {
   "cell_type": "code",
   "execution_count": 30,
   "metadata": {},
   "outputs": [
    {
     "name": "stdout",
     "output_type": "stream",
     "text": [
      "making model\n",
      "Model: \"sequential_5\"\n",
      "_________________________________________________________________\n",
      "Layer (type)                 Output Shape              Param #   \n",
      "=================================================================\n",
      "conv2d_30 (Conv2D)           (None, 27, 27, 16)        592       \n",
      "_________________________________________________________________\n",
      "conv2d_31 (Conv2D)           (None, 27, 27, 16)        2320      \n",
      "_________________________________________________________________\n",
      "max_pooling2d_15 (MaxPooling (None, 14, 14, 16)        0         \n",
      "_________________________________________________________________\n",
      "conv2d_32 (Conv2D)           (None, 14, 14, 32)        4640      \n",
      "_________________________________________________________________\n",
      "conv2d_33 (Conv2D)           (None, 14, 14, 32)        9248      \n",
      "_________________________________________________________________\n",
      "max_pooling2d_16 (MaxPooling (None, 7, 7, 32)          0         \n",
      "_________________________________________________________________\n",
      "conv2d_34 (Conv2D)           (None, 7, 7, 64)          18496     \n",
      "_________________________________________________________________\n",
      "conv2d_35 (Conv2D)           (None, 7, 7, 64)          36928     \n",
      "_________________________________________________________________\n",
      "max_pooling2d_17 (MaxPooling (None, 4, 4, 64)          0         \n",
      "_________________________________________________________________\n",
      "flatten_5 (Flatten)          (None, 1024)              0         \n",
      "_________________________________________________________________\n",
      "dense_20 (Dense)             (None, 2048)              2099200   \n",
      "_________________________________________________________________\n",
      "dense_21 (Dense)             (None, 1024)              2098176   \n",
      "_________________________________________________________________\n",
      "dropout_10 (Dropout)         (None, 1024)              0         \n",
      "_________________________________________________________________\n",
      "dense_22 (Dense)             (None, 512)               524800    \n",
      "_________________________________________________________________\n",
      "dropout_11 (Dropout)         (None, 512)               0         \n",
      "_________________________________________________________________\n",
      "dense_23 (Dense)             (None, 3)                 1539      \n",
      "=================================================================\n",
      "Total params: 4,795,939\n",
      "Trainable params: 4,795,939\n",
      "Non-trainable params: 0\n",
      "_________________________________________________________________\n"
     ]
    }
   ],
   "source": [
    "# 构造并显示模型结构\n",
    "print('making model')\n",
    "model = vgg_model()\n",
    "model.summary()"
   ]
  },
  {
   "cell_type": "code",
   "execution_count": 31,
   "metadata": {},
   "outputs": [
    {
     "name": "stdout",
     "output_type": "stream",
     "text": [
      "Train on 123176 samples, validate on 1000 samples\n",
      "Epoch 1/20\n",
      "123176/123176 - 96s - loss: 0.1277 - f1: 0.9133 - val_loss: 0.2239 - val_f1: 0.8563\n",
      "Epoch 2/20\n",
      "123176/123176 - 93s - loss: 0.0608 - f1: 0.9627 - val_loss: 0.1023 - val_f1: 0.9525\n",
      "Epoch 3/20\n",
      "123176/123176 - 92s - loss: 0.0509 - f1: 0.9688 - val_loss: 0.2381 - val_f1: 0.8591\n",
      "Epoch 4/20\n",
      "123176/123176 - 92s - loss: 0.0427 - f1: 0.9742 - val_loss: 0.1014 - val_f1: 0.9379\n",
      "Epoch 5/20\n",
      "123176/123176 - 92s - loss: 0.0385 - f1: 0.9765 - val_loss: 0.1579 - val_f1: 0.9073\n",
      "Epoch 6/20\n",
      "123176/123176 - 93s - loss: 0.0350 - f1: 0.9780 - val_loss: 0.1323 - val_f1: 0.9077\n",
      "Epoch 7/20\n",
      "123176/123176 - 92s - loss: 0.0323 - f1: 0.9798 - val_loss: 0.1130 - val_f1: 0.9419\n",
      "Epoch 8/20\n",
      "123176/123176 - 92s - loss: 0.0291 - f1: 0.9824 - val_loss: 0.1145 - val_f1: 0.9354\n",
      "Epoch 9/20\n",
      "123176/123176 - 92s - loss: 0.0274 - f1: 0.9833 - val_loss: 0.1535 - val_f1: 0.9152\n",
      "Epoch 10/20\n",
      "123176/123176 - 92s - loss: 0.0252 - f1: 0.9846 - val_loss: 0.1017 - val_f1: 0.9369\n",
      "Epoch 11/20\n",
      "123176/123176 - 92s - loss: 0.0234 - f1: 0.9856 - val_loss: 0.1705 - val_f1: 0.9003\n",
      "Epoch 12/20\n",
      "123176/123176 - 92s - loss: 0.0224 - f1: 0.9864 - val_loss: 0.1186 - val_f1: 0.9389\n",
      "Epoch 13/20\n",
      "123176/123176 - 92s - loss: 0.0208 - f1: 0.9876 - val_loss: 0.1243 - val_f1: 0.9284\n",
      "Epoch 14/20\n",
      "123176/123176 - 92s - loss: 0.0187 - f1: 0.9889 - val_loss: 0.1102 - val_f1: 0.9389\n",
      "Epoch 15/20\n",
      "123176/123176 - 92s - loss: 0.0192 - f1: 0.9887 - val_loss: 0.1081 - val_f1: 0.9410\n",
      "Epoch 16/20\n",
      "123176/123176 - 92s - loss: 0.0181 - f1: 0.9891 - val_loss: 0.2564 - val_f1: 0.8934\n",
      "Epoch 17/20\n",
      "123176/123176 - 91s - loss: 0.0171 - f1: 0.9898 - val_loss: 0.1572 - val_f1: 0.9243\n",
      "Epoch 18/20\n",
      "123176/123176 - 91s - loss: 0.0170 - f1: 0.9899 - val_loss: 0.2220 - val_f1: 0.9084\n",
      "Epoch 19/20\n",
      "123176/123176 - 92s - loss: 0.0145 - f1: 0.9912 - val_loss: 0.1727 - val_f1: 0.9215\n",
      "Epoch 20/20\n",
      "123176/123176 - 92s - loss: 0.0151 - f1: 0.9912 - val_loss: 0.1645 - val_f1: 0.9349\n"
     ]
    },
    {
     "data": {
      "text/plain": [
       "<tensorflow.python.keras.callbacks.History at 0x2234a4e6ac8>"
      ]
     },
     "execution_count": 31,
     "metadata": {},
     "output_type": "execute_result"
    }
   ],
   "source": [
    "# 调整\n",
    "# metrics = Metrics()\n",
    "model.fit(x_train, y_train, \n",
    "          validation_data=[x_valid,y_valid], \n",
    "          epochs=20, \n",
    "          batch_size=500, \n",
    "          shuffle=True, \n",
    "          verbose=2, \n",
    "\n",
    "         )\n",
    "# print('saving model')\n",
    "# model.save('E:/20190924_match_pro/classification/model/20191010_vgg_3c_10e_116.h5')"
   ]
  },
  {
   "cell_type": "code",
   "execution_count": null,
   "metadata": {},
   "outputs": [],
   "source": []
  },
  {
   "cell_type": "code",
   "execution_count": null,
   "metadata": {},
   "outputs": [],
   "source": []
  }
 ],
 "metadata": {
  "kernelspec": {
   "display_name": "Python 3",
   "language": "python",
   "name": "python3"
  },
  "language_info": {
   "codemirror_mode": {
    "name": "ipython",
    "version": 3
   },
   "file_extension": ".py",
   "mimetype": "text/x-python",
   "name": "python",
   "nbconvert_exporter": "python",
   "pygments_lexer": "ipython3",
   "version": "3.7.1"
  }
 },
 "nbformat": 4,
 "nbformat_minor": 2
}
