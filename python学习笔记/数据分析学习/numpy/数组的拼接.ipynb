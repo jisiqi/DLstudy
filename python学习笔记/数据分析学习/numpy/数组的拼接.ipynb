{
 "cells": [
  {
   "cell_type": "code",
   "execution_count": 2,
   "metadata": {},
   "outputs": [],
   "source": [
    "import numpy as np"
   ]
  },
  {
   "cell_type": "code",
   "execution_count": 8,
   "metadata": {},
   "outputs": [],
   "source": [
    "t1 = np.arange(24).reshape((4,6))\n",
    "t2 = np.arange(50,74).reshape((4,6))\n"
   ]
  },
  {
   "cell_type": "code",
   "execution_count": 9,
   "metadata": {},
   "outputs": [
    {
     "data": {
      "text/plain": [
       "array([[ 0,  1,  2,  3,  4,  5],\n",
       "       [ 6,  7,  8,  9, 10, 11],\n",
       "       [12, 13, 14, 15, 16, 17],\n",
       "       [18, 19, 20, 21, 22, 23],\n",
       "       [50, 51, 52, 53, 54, 55],\n",
       "       [56, 57, 58, 59, 60, 61],\n",
       "       [62, 63, 64, 65, 66, 67],\n",
       "       [68, 69, 70, 71, 72, 73]])"
      ]
     },
     "execution_count": 9,
     "metadata": {},
     "output_type": "execute_result"
    }
   ],
   "source": [
    "#竖直拼接\n",
    "np.vstack((t1,t2))"
   ]
  },
  {
   "cell_type": "code",
   "execution_count": 10,
   "metadata": {},
   "outputs": [
    {
     "data": {
      "text/plain": [
       "array([[ 0,  1,  2,  3,  4,  5, 50, 51, 52, 53, 54, 55],\n",
       "       [ 6,  7,  8,  9, 10, 11, 56, 57, 58, 59, 60, 61],\n",
       "       [12, 13, 14, 15, 16, 17, 62, 63, 64, 65, 66, 67],\n",
       "       [18, 19, 20, 21, 22, 23, 68, 69, 70, 71, 72, 73]])"
      ]
     },
     "execution_count": 10,
     "metadata": {},
     "output_type": "execute_result"
    }
   ],
   "source": [
    "#水平拼接\n",
    "np.hstack((t1,t2))"
   ]
  },
  {
   "cell_type": "code",
   "execution_count": 17,
   "metadata": {},
   "outputs": [
    {
     "name": "stdout",
     "output_type": "stream",
     "text": [
      "[[20 21 22 23]\n",
      " [16 17 18 19]\n",
      " [12 13 14 15]]\n"
     ]
    }
   ],
   "source": [
    "#将第一行与第三行进行交换\n",
    "t = np.arange(12,24).reshape((3,4))\n",
    "\n",
    "\n",
    "t[[0,2],:] = t[[2,0],:]\n",
    "\n",
    "print(t)"
   ]
  },
  {
   "cell_type": "code",
   "execution_count": 16,
   "metadata": {},
   "outputs": [
    {
     "name": "stdout",
     "output_type": "stream",
     "text": [
      "[[14 13 12 15]\n",
      " [18 17 16 19]\n",
      " [22 21 20 23]]\n"
     ]
    }
   ],
   "source": [
    "#将第一列与第三列进行交换\n",
    "tt = np.arange(12,24).reshape((3,4))\n",
    "tt[:,[0,2]] = tt[:,[2,0]]\n",
    "print(tt)"
   ]
  },
  {
   "cell_type": "code",
   "execution_count": 23,
   "metadata": {},
   "outputs": [
    {
     "data": {
      "text/plain": [
       "array([0, 1, 2, 3, 4], dtype=int64)"
      ]
     },
     "execution_count": 23,
     "metadata": {},
     "output_type": "execute_result"
    }
   ],
   "source": [
    "tt = np.eye(5)\n",
    "\n",
    "#获取最大值，最小值的位置\n",
    "np.argmax(tt,axis=0)\n",
    "\n"
   ]
  },
  {
   "cell_type": "code",
   "execution_count": 24,
   "metadata": {},
   "outputs": [
    {
     "data": {
      "text/plain": [
       "array([1, 0, 0, 0, 0, 0], dtype=int64)"
      ]
     },
     "execution_count": 24,
     "metadata": {},
     "output_type": "execute_result"
    }
   ],
   "source": [
    "ttt = np.eye(6)\n",
    "np.argmin(ttt,axis=1)"
   ]
  },
  {
   "cell_type": "code",
   "execution_count": null,
   "metadata": {},
   "outputs": [],
   "source": []
  }
 ],
 "metadata": {
  "kernelspec": {
   "display_name": "Python 3",
   "language": "python",
   "name": "python3"
  },
  "language_info": {
   "codemirror_mode": {
    "name": "ipython",
    "version": 3
   },
   "file_extension": ".py",
   "mimetype": "text/x-python",
   "name": "python",
   "nbconvert_exporter": "python",
   "pygments_lexer": "ipython3",
   "version": "3.7.3"
  }
 },
 "nbformat": 4,
 "nbformat_minor": 2
}
